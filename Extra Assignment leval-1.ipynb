{
 "cells": [
  {
   "cell_type": "code",
   "execution_count": 1,
   "id": "d28bf762-0378-47d9-8e0d-eb004dd1543f",
   "metadata": {},
   "outputs": [
    {
     "name": "stdout",
     "output_type": "stream",
     "text": [
      "HOPE AI\n"
     ]
    }
   ],
   "source": [
    "print(\"HOPE AI\")"
   ]
  },
  {
   "cell_type": "code",
   "execution_count": 2,
   "id": "030b3373-8bda-41b9-b9b1-5b59a2c3c5f8",
   "metadata": {},
   "outputs": [
    {
     "name": "stdout",
     "output_type": "stream",
     "text": [
      "Enter your institute name?:HOPE AI\n"
     ]
    }
   ],
   "source": [
    "print(\"Enter your institute name?:HOPE AI\")"
   ]
  },
  {
   "cell_type": "code",
   "execution_count": 3,
   "id": "cc205707-b53b-4db5-b20a-bdce5d84362c",
   "metadata": {},
   "outputs": [
    {
     "name": "stdout",
     "output_type": "stream",
     "text": [
      "Enter your name: Raj\n",
      "Enter your age: 15\n",
      "Enter your schoolname: Guru school\n",
      "Enter your drgree: B.E CES\n"
     ]
    }
   ],
   "source": [
    "name1=\"Raj\"\n",
    "age2=\"15\"\n",
    "schoolname3=\"Guru school\"\n",
    "drgree4=\"B.E CES\"\n",
    "print(\"Enter your name:\",name1,)\n",
    "print (\"Enter your age:\",age2,)\n",
    "print(\"Enter your schoolname:\", schoolname3,)\n",
    "print(\"Enter your drgree:\",drgree4,)"
   ]
  },
  {
   "cell_type": "code",
   "execution_count": 4,
   "id": "f429995a-5bd7-402a-9dcc-ee4e3f2ef326",
   "metadata": {},
   "outputs": [
    {
     "name": "stdout",
     "output_type": "stream",
     "text": [
      "add\n"
     ]
    }
   ],
   "source": [
    "a=43\n",
    "b=34\n",
    "add=a+b\n",
    "print(\"add\")"
   ]
  },
  {
   "cell_type": "code",
   "execution_count": 5,
   "id": "722a8427-eeee-4109-979f-d0e18a6c02a2",
   "metadata": {},
   "outputs": [
    {
     "name": "stdout",
     "output_type": "stream",
     "text": [
      "add\n",
      "77\n"
     ]
    }
   ],
   "source": [
    "a=43\n",
    "b=34\n",
    "add=a+b\n",
    "print(\"add\")\n",
    "print(add)"
   ]
  },
  {
   "cell_type": "code",
   "execution_count": 6,
   "id": "1b32adb3-f014-4cdd-b536-74ff20e5aae4",
   "metadata": {},
   "outputs": [
    {
     "name": "stdout",
     "output_type": "stream",
     "text": [
      "sub\n",
      "9\n"
     ]
    }
   ],
   "source": [
    "a=43\n",
    "b=34\n",
    "sub=a-b\n",
    "print(\"sub\")\n",
    "print(sub)"
   ]
  },
  {
   "cell_type": "code",
   "execution_count": 7,
   "id": "4d120548-522b-456e-9a63-2f1745554eb4",
   "metadata": {},
   "outputs": [
    {
     "name": "stdout",
     "output_type": "stream",
     "text": [
      "mul\n",
      "6111\n"
     ]
    }
   ],
   "source": [
    "a=63\n",
    "b=97\n",
    "mul=a*b\n",
    "print(\"mul\")\n",
    "print(mul)"
   ]
  },
  {
   "cell_type": "code",
   "execution_count": 8,
   "id": "f599f2cc-1eab-419c-954d-36ff938443a8",
   "metadata": {},
   "outputs": [
    {
     "name": "stdout",
     "output_type": "stream",
     "text": [
      "a/b\n",
      "2.4516129032258065\n"
     ]
    }
   ],
   "source": [
    "a=76\n",
    "b=31\n",
    "div=a/b\n",
    "print(\"a/b\")\n",
    "print(a/b)"
   ]
  },
  {
   "cell_type": "code",
   "execution_count": 9,
   "id": "22a1f7a9-921c-403f-9258-0d625d6eeadd",
   "metadata": {},
   "outputs": [
    {
     "name": "stdout",
     "output_type": "stream",
     "text": [
      "Floordiv\n",
      "2\n"
     ]
    }
   ],
   "source": [
    "a=76\n",
    "b=31\n",
    "Floordiv=a//b\n",
    "print(\"Floordiv\")\n",
    "print(Floordiv)"
   ]
  },
  {
   "cell_type": "code",
   "execution_count": 10,
   "id": "9877e43c-bb8b-4178-95e4-52dd1f8c7550",
   "metadata": {},
   "outputs": [
    {
     "name": "stdout",
     "output_type": "stream",
     "text": [
      "modulo\n",
      "14\n"
     ]
    }
   ],
   "source": [
    "#modulo\n",
    "a=76\n",
    "b=31\n",
    "modulo=a%b\n",
    "print(\"modulo\")\n",
    "print(modulo)"
   ]
  },
  {
   "cell_type": "code",
   "execution_count": 11,
   "id": "e316268e-2957-49f0-9523-99d8b5673631",
   "metadata": {},
   "outputs": [
    {
     "name": "stdout",
     "output_type": "stream",
     "text": [
      "power\n",
      "16\n"
     ]
    }
   ],
   "source": [
    "#power\n",
    "a=4\n",
    "b=4\n",
    "power=a*b\n",
    "print(\"power\")\n",
    "print(power)"
   ]
  },
  {
   "cell_type": "code",
   "execution_count": 12,
   "id": "fe213837-579f-4b28-a1c8-c28cf6bb9689",
   "metadata": {},
   "outputs": [
    {
     "name": "stdout",
     "output_type": "stream",
     "text": [
      "power\n",
      "256\n"
     ]
    }
   ],
   "source": [
    "#power\n",
    "a=4\n",
    "b=4\n",
    "power=16*16\n",
    "print(\"power\")\n",
    "print(power)"
   ]
  }
 ],
 "metadata": {
  "kernelspec": {
   "display_name": "Python 3 (ipykernel)",
   "language": "python",
   "name": "python3"
  },
  "language_info": {
   "codemirror_mode": {
    "name": "ipython",
    "version": 3
   },
   "file_extension": ".py",
   "mimetype": "text/x-python",
   "name": "python",
   "nbconvert_exporter": "python",
   "pygments_lexer": "ipython3",
   "version": "3.11.7"
  }
 },
 "nbformat": 4,
 "nbformat_minor": 5
}
