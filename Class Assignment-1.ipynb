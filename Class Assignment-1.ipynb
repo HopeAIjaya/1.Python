{
 "cells": [
  {
   "cell_type": "code",
   "execution_count": 1,
   "id": "08758838-7ebe-4b27-b8ca-205d8d12ef2b",
   "metadata": {},
   "outputs": [],
   "source": [
    "#create a calss and function,and list out the items in the list"
   ]
  },
  {
   "cell_type": "code",
   "execution_count": 2,
   "id": "1d1dca0e-fc54-4421-9006-cc877ef6b550",
   "metadata": {},
   "outputs": [],
   "source": [
    "class multiplefunction():\n",
    "    def Subfields():\n",
    "        list=['Machine learning','Neural Networks','Vision','Rootics','Speech processing','Natural language processing']\n",
    "        print(\"sub-filds in AI are:\")\n",
    "        for i in list:\n",
    "            print(i)   "
   ]
  },
  {
   "cell_type": "code",
   "execution_count": 3,
   "id": "096524fa-b922-4394-bf2c-5507f17b800e",
   "metadata": {
    "scrolled": true
   },
   "outputs": [
    {
     "name": "stdout",
     "output_type": "stream",
     "text": [
      "sub-filds in AI are:\n",
      "Machine learning\n",
      "Neural Networks\n",
      "Vision\n",
      "Rootics\n",
      "Speech processing\n",
      "Natural language processing\n"
     ]
    }
   ],
   "source": [
    "multiplefunction.Subfields()"
   ]
  },
  {
   "cell_type": "code",
   "execution_count": 4,
   "id": "ecf0ff30-8ce3-44ba-8826-9a49b0632c87",
   "metadata": {},
   "outputs": [],
   "source": [
    "#create a function that checks whether the given number is odd or even"
   ]
  },
  {
   "cell_type": "code",
   "execution_count": 5,
   "id": "54125de1-ddb6-44d7-957f-d7f121f05e56",
   "metadata": {},
   "outputs": [],
   "source": [
    "class multiplefunction():\n",
    "    def oddEven():\n",
    "        num=int(input(\"Enter a number:\"))\n",
    "        if num%2==0:\n",
    "            print(num,\"is Even number\")\n",
    "        else:\n",
    "            print(num,\"is odd number\")"
   ]
  },
  {
   "cell_type": "code",
   "execution_count": 6,
   "id": "4cd1dd99-dae8-4c21-9313-60d75cc1d18b",
   "metadata": {},
   "outputs": [
    {
     "name": "stdin",
     "output_type": "stream",
     "text": [
      "Enter a number: 52452\n"
     ]
    },
    {
     "name": "stdout",
     "output_type": "stream",
     "text": [
      "52452 is Even number\n"
     ]
    }
   ],
   "source": [
    "multiplefunction.oddEven()"
   ]
  },
  {
   "cell_type": "code",
   "execution_count": 7,
   "id": "3a3cc20b-2416-4718-90b9-3972a543c5db",
   "metadata": {},
   "outputs": [],
   "source": [
    "# create a function that tells elegibility of marriage for male and female according to their age limit like 21 for male and 18 for female"
   ]
  },
  {
   "cell_type": "code",
   "execution_count": 8,
   "id": "cd0d5dbf-4fdb-402c-9207-fc11023f1e2b",
   "metadata": {},
   "outputs": [],
   "source": [
    "class multiplection():\n",
    "    def ElegiblityForMarriage():\n",
    "        gender = input(\"your Gender: \")\n",
    "        age    = int(input(\"your age:\"))\n",
    "        if(gender=='Male' and age>=21) or (gender=='Female' and age>=18):\n",
    "            print(\"Eligible\")\n",
    "        else:\n",
    "            print(\"Not Eligible\")"
   ]
  },
  {
   "cell_type": "code",
   "execution_count": 9,
   "id": "fe761790-5dc7-4f57-ae98-90f416a724ea",
   "metadata": {},
   "outputs": [
    {
     "name": "stdin",
     "output_type": "stream",
     "text": [
      "your Gender:  Male\n",
      "your age: 20\n"
     ]
    },
    {
     "name": "stdout",
     "output_type": "stream",
     "text": [
      "Not Eligible\n"
     ]
    }
   ],
   "source": [
    "multiplection.ElegiblityForMarriage()"
   ]
  },
  {
   "cell_type": "code",
   "execution_count": 10,
   "id": "d0cc713b-eda0-4365-b51c-b56e88c334e4",
   "metadata": {},
   "outputs": [],
   "source": [
    "# calculate the percentage of your 10th mark"
   ]
  },
  {
   "cell_type": "code",
   "execution_count": 11,
   "id": "b913a174-7bec-435b-8675-f01951537dc7",
   "metadata": {},
   "outputs": [],
   "source": [
    "class multiplection():\n",
    "    def percentage():\n",
    "        mark1=int(input(\"Subject1=\"))\n",
    "        mark2=int(input(\"Subject2=\"))\n",
    "        mark3=int(input(\"Subject3=\"))\n",
    "        mark4=int(input(\"Subject4=\"))\n",
    "        mark5=int(input(\"Subject5=\"))\n",
    "        total_ob=mark1+mark2+mark3+mark4+mark5\n",
    "        per=(total_ob/500)*100\n",
    "        print(\"Total:468\")\n",
    "        print(\"percentage:\",per)"
   ]
  },
  {
   "cell_type": "code",
   "execution_count": 12,
   "id": "db40c7d1-6cec-4edd-bbc0-12042742ad89",
   "metadata": {
    "scrolled": true
   },
   "outputs": [
    {
     "name": "stdin",
     "output_type": "stream",
     "text": [
      "Subject1= 98\n",
      "Subject2= 87\n",
      "Subject3= 95\n",
      "Subject4= 95\n",
      "Subject5= 93\n"
     ]
    },
    {
     "name": "stdout",
     "output_type": "stream",
     "text": [
      "Total:468\n",
      "percentage: 93.60000000000001\n"
     ]
    }
   ],
   "source": [
    "multiplection. percentage()"
   ]
  },
  {
   "cell_type": "code",
   "execution_count": 13,
   "id": "e2f9b8c4-6ae5-436f-a24e-dad51ff6efa0",
   "metadata": {},
   "outputs": [],
   "source": [
    "# print area and perimeter of triangle using class and functions"
   ]
  },
  {
   "cell_type": "code",
   "execution_count": 14,
   "id": "a91f4b9b-106e-442e-b7ff-28fc8fbe83bc",
   "metadata": {},
   "outputs": [],
   "source": [
    "class multiplection():\n",
    "    def triangle():\n",
    "        length=int(input(\"Height:\"))\n",
    "        breadth=int(input(\"Breadth:\"))\n",
    "        area=(length*breadth)/2\n",
    "        print(\"area of triangle:\",area)\n",
    "        Height1=int(input(\"Height1:\"))\n",
    "        Height2=int(input(\"Height2:\"))\n",
    "        Breadth=int(input(\"Breadth:\"))\n",
    "        perimeter=Height1+Height2+Breadth\n",
    "        print(\"perimeter of Triangle:\",perimeter)"
   ]
  },
  {
   "cell_type": "code",
   "execution_count": 15,
   "id": "c213825a-8f28-4cc5-b201-4f8b59ad1d91",
   "metadata": {},
   "outputs": [
    {
     "name": "stdin",
     "output_type": "stream",
     "text": [
      "Height: 32\n",
      "Breadth: 34\n"
     ]
    },
    {
     "name": "stdout",
     "output_type": "stream",
     "text": [
      "area of triangle: 544.0\n"
     ]
    },
    {
     "name": "stdin",
     "output_type": "stream",
     "text": [
      "Height1: 2\n",
      "Height2: 4\n",
      "Breadth: 4\n"
     ]
    },
    {
     "name": "stdout",
     "output_type": "stream",
     "text": [
      "perimeter of Triangle: 10\n"
     ]
    }
   ],
   "source": [
    "multiplection.triangle()"
   ]
  }
 ],
 "metadata": {
  "kernelspec": {
   "display_name": "Python 3 (ipykernel)",
   "language": "python",
   "name": "python3"
  },
  "language_info": {
   "codemirror_mode": {
    "name": "ipython",
    "version": 3
   },
   "file_extension": ".py",
   "mimetype": "text/x-python",
   "name": "python",
   "nbconvert_exporter": "python",
   "pygments_lexer": "ipython3",
   "version": "3.11.7"
  }
 },
 "nbformat": 4,
 "nbformat_minor": 5
}
