{
 "cells": [
  {
   "cell_type": "code",
   "execution_count": 19,
   "id": "47a01623-4dc8-4f0e-aaa6-855018e627c9",
   "metadata": {},
   "outputs": [],
   "source": [
    "from multiplefunction import multiplefunction\n",
    "#from fileName imoprt className"
   ]
  },
  {
   "cell_type": "code",
   "execution_count": 21,
   "id": "c48a85c8-dfa7-40ec-9dbc-fb14b219d5ab",
   "metadata": {},
   "outputs": [
    {
     "name": "stdout",
     "output_type": "stream",
     "text": [
      "sub-filds in AI are:\n",
      "Machine learning\n",
      "Neural Networks\n",
      "Vision\n",
      "Rootics\n",
      "Speech processing\n",
      "Natural language processing\n"
     ]
    }
   ],
   "source": [
    "multiplefunction.Subfields()\n",
    "#className.functionName()"
   ]
  },
  {
   "cell_type": "code",
   "execution_count": 23,
   "id": "87e8d92e-d7d0-4e3c-ae5e-488805addbab",
   "metadata": {},
   "outputs": [
    {
     "name": "stdin",
     "output_type": "stream",
     "text": [
      "Enter a number: 52452\n"
     ]
    },
    {
     "name": "stdout",
     "output_type": "stream",
     "text": [
      "52452 is Even number\n"
     ]
    }
   ],
   "source": [
    "multiplefunction.oddEven()\n",
    "#className.functionName"
   ]
  },
  {
   "cell_type": "code",
   "execution_count": 26,
   "id": "84a3cbcf-7892-427a-8f98-4645203122f3",
   "metadata": {},
   "outputs": [
    {
     "name": "stdin",
     "output_type": "stream",
     "text": [
      "your Gender:  Male\n",
      "your age: 20\n"
     ]
    },
    {
     "name": "stdout",
     "output_type": "stream",
     "text": [
      "Not Eligible\n"
     ]
    }
   ],
   "source": [
    "multiplefunction.ElegiblityForMarriage()\n",
    "#className.functionName()"
   ]
  },
  {
   "cell_type": "code",
   "execution_count": 27,
   "id": "63b6e66e-2b59-4143-9df3-1778c08ea1d0",
   "metadata": {},
   "outputs": [
    {
     "name": "stdin",
     "output_type": "stream",
     "text": [
      "Subject1= 98\n",
      "Subject2= 87\n",
      "Subject3= 95\n",
      "Subject4= 95\n",
      "Subject5= 93\n"
     ]
    },
    {
     "name": "stdout",
     "output_type": "stream",
     "text": [
      "Total:468\n",
      "percentage: 93.60000000000001\n"
     ]
    }
   ],
   "source": [
    "multiplefunction.percentage()\n",
    "#className.functionName()"
   ]
  },
  {
   "cell_type": "code",
   "execution_count": 28,
   "id": "609f7c8b-3a1a-499e-8bb7-6ec7cdea075c",
   "metadata": {},
   "outputs": [
    {
     "name": "stdin",
     "output_type": "stream",
     "text": [
      "Height: 32\n",
      "Breadth: 34\n"
     ]
    },
    {
     "name": "stdout",
     "output_type": "stream",
     "text": [
      "area of triangle: 544.0\n"
     ]
    },
    {
     "name": "stdin",
     "output_type": "stream",
     "text": [
      "Height1: 2\n",
      "Height2: 4\n",
      "Breadth: 4\n"
     ]
    },
    {
     "name": "stdout",
     "output_type": "stream",
     "text": [
      "perimeter of Triangle: 10\n"
     ]
    }
   ],
   "source": [
    "multiplefunction.triangle()\n",
    "#className.functionName()"
   ]
  }
 ],
 "metadata": {
  "kernelspec": {
   "display_name": "Python 3 (ipykernel)",
   "language": "python",
   "name": "python3"
  },
  "language_info": {
   "codemirror_mode": {
    "name": "ipython",
    "version": 3
   },
   "file_extension": ".py",
   "mimetype": "text/x-python",
   "name": "python",
   "nbconvert_exporter": "python",
   "pygments_lexer": "ipython3",
   "version": "3.11.7"
  }
 },
 "nbformat": 4,
 "nbformat_minor": 5
}
