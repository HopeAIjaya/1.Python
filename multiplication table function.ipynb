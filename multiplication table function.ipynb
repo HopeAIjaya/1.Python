{
 "cells": [
  {
   "cell_type": "code",
   "execution_count": 1,
   "id": "b45b74df-2136-4e37-8289-c39acbdc813c",
   "metadata": {},
   "outputs": [],
   "source": [
    "def table():\n",
    "    n=int(input(\"Enter the number:\"))\n",
    "    for i in range(21,31):\n",
    "        print(i,\"*\",n,\"=\",n*i)"
   ]
  },
  {
   "cell_type": "code",
   "execution_count": 2,
   "id": "414cb643-6faa-479b-883a-27d3dca57bc5",
   "metadata": {},
   "outputs": [
    {
     "name": "stdin",
     "output_type": "stream",
     "text": [
      "Enter the number: 19\n"
     ]
    },
    {
     "name": "stdout",
     "output_type": "stream",
     "text": [
      "21 * 19 = 399\n",
      "22 * 19 = 418\n",
      "23 * 19 = 437\n",
      "24 * 19 = 456\n",
      "25 * 19 = 475\n",
      "26 * 19 = 494\n",
      "27 * 19 = 513\n",
      "28 * 19 = 532\n",
      "29 * 19 = 551\n",
      "30 * 19 = 570\n"
     ]
    }
   ],
   "source": [
    " table()"
   ]
  }
 ],
 "metadata": {
  "kernelspec": {
   "display_name": "Python 3 (ipykernel)",
   "language": "python",
   "name": "python3"
  },
  "language_info": {
   "codemirror_mode": {
    "name": "ipython",
    "version": 3
   },
   "file_extension": ".py",
   "mimetype": "text/x-python",
   "name": "python",
   "nbconvert_exporter": "python",
   "pygments_lexer": "ipython3",
   "version": "3.11.7"
  }
 },
 "nbformat": 4,
 "nbformat_minor": 5
}
