{
 "cells": [
  {
   "cell_type": "code",
   "execution_count": 1,
   "id": "9b864d03-1ec1-4a4d-bc95-1eaf68e49d99",
   "metadata": {},
   "outputs": [],
   "source": [
    "class multipletion():\n",
    "    def table():\n",
    "        n=int(input(\"Enter the number:\"))\n",
    "        for i in range(21,31):\n",
    "            print(i,\"*\",n,\"=\",n*i)"
   ]
  },
  {
   "cell_type": "code",
   "execution_count": 2,
   "id": "8ac329c3-4fc6-4184-a59d-92190e93de81",
   "metadata": {},
   "outputs": [
    {
     "name": "stdin",
     "output_type": "stream",
     "text": [
      "Enter the number: 19\n"
     ]
    },
    {
     "name": "stdout",
     "output_type": "stream",
     "text": [
      "21 * 19 = 399\n",
      "22 * 19 = 418\n",
      "23 * 19 = 437\n",
      "24 * 19 = 456\n",
      "25 * 19 = 475\n",
      "26 * 19 = 494\n",
      "27 * 19 = 513\n",
      "28 * 19 = 532\n",
      "29 * 19 = 551\n",
      "30 * 19 = 570\n"
     ]
    }
   ],
   "source": [
    "multipletion.table()"
   ]
  },
  {
   "cell_type": "code",
   "execution_count": null,
   "id": "9b43320b-f1d5-407a-98f6-64158e1c23c5",
   "metadata": {},
   "outputs": [],
   "source": []
  }
 ],
 "metadata": {
  "kernelspec": {
   "display_name": "Python 3 (ipykernel)",
   "language": "python",
   "name": "python3"
  },
  "language_info": {
   "codemirror_mode": {
    "name": "ipython",
    "version": 3
   },
   "file_extension": ".py",
   "mimetype": "text/x-python",
   "name": "python",
   "nbconvert_exporter": "python",
   "pygments_lexer": "ipython3",
   "version": "3.11.7"
  }
 },
 "nbformat": 4,
 "nbformat_minor": 5
}
