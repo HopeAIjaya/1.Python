{
 "cells": [
  {
   "cell_type": "code",
   "execution_count": 1,
   "id": "751676c2-f710-49ee-9628-f140bb917da4",
   "metadata": {},
   "outputs": [],
   "source": [
    "#create a calss and function,and list out the items in the list"
   ]
  },
  {
   "cell_type": "code",
   "execution_count": 2,
   "id": "0ffd0768-2eff-44d3-acc5-4bd8b62cda1c",
   "metadata": {},
   "outputs": [],
   "source": [
    "def Subfields():\n",
    "    list=['Machine learning','Neural Networks','Vision','Rootics','Speech processing','Natural language processing']\n",
    "    print(\"sub-filds in AI are:\")\n",
    "    for i in list:\n",
    "        print(i)   "
   ]
  },
  {
   "cell_type": "code",
   "execution_count": 3,
   "id": "80922386-4244-406e-8c13-c348ba73a456",
   "metadata": {},
   "outputs": [
    {
     "name": "stdout",
     "output_type": "stream",
     "text": [
      "sub-filds in AI are:\n",
      "Machine learning\n",
      "Neural Networks\n",
      "Vision\n",
      "Rootics\n",
      "Speech processing\n",
      "Natural language processing\n"
     ]
    }
   ],
   "source": [
    "Subfields()  "
   ]
  },
  {
   "cell_type": "code",
   "execution_count": 4,
   "id": "f5c932b0-c8e1-411a-9629-a76f10bc849f",
   "metadata": {},
   "outputs": [],
   "source": [
    "#create a function that checks whether the given number is odd or even"
   ]
  },
  {
   "cell_type": "code",
   "execution_count": 5,
   "id": "812ddf8b-1acb-45c9-bc85-d148a30c8382",
   "metadata": {},
   "outputs": [],
   "source": [
    "def oddEven():\n",
    "    num=int(input(\"Enter a number:\"))\n",
    "    if num%2==0:\n",
    "        print(num,\"is Even number\")\n",
    "    else:\n",
    "        print(num,\"is odd number\")"
   ]
  },
  {
   "cell_type": "code",
   "execution_count": 6,
   "id": "e929b56e-068b-4901-a2c6-dc31663f9e6f",
   "metadata": {},
   "outputs": [
    {
     "name": "stdin",
     "output_type": "stream",
     "text": [
      "Enter a number: 52452\n"
     ]
    },
    {
     "name": "stdout",
     "output_type": "stream",
     "text": [
      "52452 is Even number\n"
     ]
    }
   ],
   "source": [
    "oddEven()"
   ]
  },
  {
   "cell_type": "code",
   "execution_count": 7,
   "id": "5cb182b5-79b9-4e69-b3e3-a984edae5a39",
   "metadata": {},
   "outputs": [],
   "source": [
    "# create a function that tells elegibility of marriage for male and female according to their age limit like 21 for male and 18 for female"
   ]
  },
  {
   "cell_type": "code",
   "execution_count": 3,
   "id": "7d084573-131c-40ee-9cd8-9b21f01a3fae",
   "metadata": {},
   "outputs": [],
   "source": [
    "def ElegiblityForMarriage():\n",
    "    gender = input(\"your Gender: \")\n",
    "    age    = int(input(\"your age:\"))\n",
    "    if(gender=='Male' and age>=21) or (gender=='Female' and age>=18):\n",
    "        print(\"Eligible\")\n",
    "    else:\n",
    "        print(\"Not Eligible\")"
   ]
  },
  {
   "cell_type": "code",
   "execution_count": 4,
   "id": "c6e732af-fe9c-4e10-92fb-1f09df572127",
   "metadata": {},
   "outputs": [
    {
     "name": "stdin",
     "output_type": "stream",
     "text": [
      "your Gender:  Male\n",
      "your age: 20\n"
     ]
    },
    {
     "name": "stdout",
     "output_type": "stream",
     "text": [
      "Not Eligible\n"
     ]
    }
   ],
   "source": [
    "ElegiblityForMarriage()"
   ]
  },
  {
   "cell_type": "code",
   "execution_count": 10,
   "id": "1f2292df-1f51-466c-b366-99cd7931d96d",
   "metadata": {},
   "outputs": [],
   "source": [
    "# calculate the percentage of your 10th mark"
   ]
  },
  {
   "cell_type": "code",
   "execution_count": 11,
   "id": "443645e3-5847-47cc-b6ff-3a6de6731ba9",
   "metadata": {},
   "outputs": [],
   "source": [
    "def percentage():\n",
    "    mark1=int(input(\"Subject1=\"))\n",
    "    mark2=int(input(\"Subject=\"))\n",
    "    mark3=int(input(\"Subject3=\"))\n",
    "    mark4=int(input(\"Subject4=\"))\n",
    "    mark5=int(input(\"Subject5=\"))\n",
    "    total_ob=mark1+mark2+mark3+mark4+mark5\n",
    "    per=(total_ob/500)*100\n",
    "    print(\"Total:468\")\n",
    "    print(\"percentage:\",per)"
   ]
  },
  {
   "cell_type": "code",
   "execution_count": 12,
   "id": "87c41705-330b-4e3a-a940-665087418101",
   "metadata": {},
   "outputs": [
    {
     "name": "stdin",
     "output_type": "stream",
     "text": [
      "Subject1= 98\n",
      "Subject= 87\n",
      "Subject3= 95\n",
      "Subject4= 95\n",
      "Subject5= 93\n"
     ]
    },
    {
     "name": "stdout",
     "output_type": "stream",
     "text": [
      "Total:468\n",
      "percentage: 93.60000000000001\n"
     ]
    }
   ],
   "source": [
    "percentage()"
   ]
  },
  {
   "cell_type": "code",
   "execution_count": 13,
   "id": "a4d5d23c-c8c2-49b0-9bd1-1fee3e3585c4",
   "metadata": {},
   "outputs": [],
   "source": [
    "# print area and perimeter of triangle using class and functions"
   ]
  },
  {
   "cell_type": "code",
   "execution_count": 14,
   "id": "e6a085b9-f59c-435e-8e56-d8d6d5d28fa2",
   "metadata": {},
   "outputs": [],
   "source": [
    "def triangle():\n",
    "    length=int(input(\"Height:\"))\n",
    "    breadth=int(input(\"Breadth:\"))\n",
    "    area=(length*breadth)/2\n",
    "    print(\"area of triangle:\",area)\n",
    "    Height1=int(input(\"Height1:\"))\n",
    "    Height2=int(input(\"Height2:\"))\n",
    "    Breadth=int(input(\"Breadth:\"))\n",
    "    perimeter=Height1+Height2+Breadth\n",
    "    print(\"perimeter of Triangle:\",perimeter)"
   ]
  },
  {
   "cell_type": "code",
   "execution_count": 15,
   "id": "9a5cdfb7-d048-4479-9b16-bd91bedc5eaa",
   "metadata": {},
   "outputs": [
    {
     "name": "stdin",
     "output_type": "stream",
     "text": [
      "Height: 32\n",
      "Breadth: 34\n"
     ]
    },
    {
     "name": "stdout",
     "output_type": "stream",
     "text": [
      "area of triangle: 544.0\n"
     ]
    },
    {
     "name": "stdin",
     "output_type": "stream",
     "text": [
      "Height1: 2\n",
      "Height2: 4\n",
      "Breadth: 4\n"
     ]
    },
    {
     "name": "stdout",
     "output_type": "stream",
     "text": [
      "perimeter of Triangle: 10\n"
     ]
    }
   ],
   "source": [
    "triangle()"
   ]
  },
  {
   "cell_type": "code",
   "execution_count": null,
   "id": "05ba5a3c-660b-41ee-b3a9-43e9dbbda95a",
   "metadata": {},
   "outputs": [],
   "source": []
  }
 ],
 "metadata": {
  "kernelspec": {
   "display_name": "Python 3 (ipykernel)",
   "language": "python",
   "name": "python3"
  },
  "language_info": {
   "codemirror_mode": {
    "name": "ipython",
    "version": 3
   },
   "file_extension": ".py",
   "mimetype": "text/x-python",
   "name": "python",
   "nbconvert_exporter": "python",
   "pygments_lexer": "ipython3",
   "version": "3.11.7"
  }
 },
 "nbformat": 4,
 "nbformat_minor": 5
}
