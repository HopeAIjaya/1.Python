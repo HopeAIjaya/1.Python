{
 "cells": [
  {
   "cell_type": "code",
   "execution_count": 1,
   "id": "751676c2-f710-49ee-9628-f140bb917da4",
   "metadata": {},
   "outputs": [],
   "source": [
    "#create a calss and function,and list out the items in the list"
   ]
  },
  {
   "cell_type": "code",
   "execution_count": 2,
   "id": "94dfe66a-20e7-45a4-aed1-e4a9bc0b7c4e",
   "metadata": {},
   "outputs": [
    {
     "name": "stdout",
     "output_type": "stream",
     "text": [
      "sub-filds in AI are:\n",
      "machine learning\n",
      "Neural Networks\n",
      "vision\n",
      "Rootics\n",
      "Speech processing\n",
      "Natural language processing\n"
     ]
    }
   ],
   "source": [
    "list=['machine learning','Neural Networks','vision','Rootics','Speech processing','Natural language processing']\n",
    "print(\"sub-filds in AI are:\")\n",
    "for i in list:\n",
    "    print(i)"
   ]
  },
  {
   "cell_type": "code",
   "execution_count": 3,
   "id": "f5c932b0-c8e1-411a-9629-a76f10bc849f",
   "metadata": {},
   "outputs": [],
   "source": [
    "#create a function that checks whether the given number is odd or even"
   ]
  },
  {
   "cell_type": "code",
   "execution_count": 4,
   "id": "0f59f704-0346-4fcb-bc64-d5d86f3a2d7a",
   "metadata": {},
   "outputs": [
    {
     "name": "stdin",
     "output_type": "stream",
     "text": [
      "Enter a number: 52452\n"
     ]
    },
    {
     "name": "stdout",
     "output_type": "stream",
     "text": [
      "52452 is Even number\n"
     ]
    }
   ],
   "source": [
    "num=int(input(\"Enter a number:\"))\n",
    "if num%2==0:\n",
    "    print(num,\"is Even number\")\n",
    "else:\n",
    "    print(num,\"is odd number\")"
   ]
  },
  {
   "cell_type": "code",
   "execution_count": 5,
   "id": "5cb182b5-79b9-4e69-b3e3-a984edae5a39",
   "metadata": {},
   "outputs": [],
   "source": [
    "# create a function that tells elegibility of marriage for male and female according to their age limit like 21 for male and 18 for female"
   ]
  },
  {
   "cell_type": "code",
   "execution_count": 6,
   "id": "4073eefa-2b62-480e-9df8-938aac3e3fa9",
   "metadata": {},
   "outputs": [
    {
     "name": "stdin",
     "output_type": "stream",
     "text": [
      "you gender: Male\n",
      "you Age: 20\n"
     ]
    },
    {
     "name": "stdout",
     "output_type": "stream",
     "text": [
      "NOT ELIGIBLE\n"
     ]
    }
   ],
   "source": [
    "gender=input(\"you gender:\")\n",
    "age=int(input(\"you Age:\"))\n",
    "if(gender=='M'):\n",
    "  if(age >=21):\n",
    "    print(\"ELIGIBLE\")\n",
    "else:\n",
    "  print('NOT ELIGIBLE')"
   ]
  },
  {
   "cell_type": "code",
   "execution_count": 7,
   "id": "1f2292df-1f51-466c-b366-99cd7931d96d",
   "metadata": {},
   "outputs": [],
   "source": [
    "# calculate the percentage of your 10th mark"
   ]
  },
  {
   "cell_type": "code",
   "execution_count": 20,
   "id": "f8f15a43-4b45-42cf-859a-d5c0a35ec902",
   "metadata": {},
   "outputs": [
    {
     "name": "stdin",
     "output_type": "stream",
     "text": [
      "Subject1 98\n",
      "Subject 87\n",
      "Subject3 95\n",
      "Subject4 95\n",
      "Subject5 93\n"
     ]
    },
    {
     "name": "stdout",
     "output_type": "stream",
     "text": [
      "Total=468\n",
      "percentage: 93.60000000000001\n"
     ]
    }
   ],
   "source": [
    "mark1=int(input(\"Subject1\"))\n",
    "mark2=int(input(\"Subject\"))\n",
    "mark3=int(input(\"Subject3\"))\n",
    "mark4=int(input(\"Subject4\"))\n",
    "mark5=int(input(\"Subject5\"))\n",
    "total_ob=mark1+mark2+mark3+mark4+mark5\n",
    "per=(total_ob/500)*100\n",
    "print(\"Total=468\")\n",
    "print(\"percentage:\",per)"
   ]
  },
  {
   "cell_type": "code",
   "execution_count": 10,
   "id": "a4d5d23c-c8c2-49b0-9bd1-1fee3e3585c4",
   "metadata": {},
   "outputs": [],
   "source": [
    "# print area and perimeter of triangle using class and functions"
   ]
  },
  {
   "cell_type": "code",
   "execution_count": 11,
   "id": "d01e220c-cf21-4779-a640-94c2d9f4f2e4",
   "metadata": {},
   "outputs": [
    {
     "name": "stdin",
     "output_type": "stream",
     "text": [
      "Height: 32\n",
      "Breadth: 34\n"
     ]
    },
    {
     "name": "stdout",
     "output_type": "stream",
     "text": [
      "Area formula:(Height* Breadth)/2\n",
      "Area of Triangle:544.0\n"
     ]
    },
    {
     "name": "stdin",
     "output_type": "stream",
     "text": [
      "Height1: 2\n",
      "Height2: 4\n",
      "Breadth: 4\n"
     ]
    },
    {
     "name": "stdout",
     "output_type": "stream",
     "text": [
      "perimter formula:Height1+Height2+Breadth\n",
      "perimter of Triangle:10\n"
     ]
    }
   ],
   "source": [
    "length=int(input(\"Height:\"))\n",
    "breadth=int(input(\"Breadth:\"))\n",
    "print(\"Area formula:(Height* Breadth)/2\")\n",
    "print(\"Area of Triangle:544.0\")\n",
    "lenght=int(input(\"Height1:\"))\n",
    "lenght=int(input(\"Height2:\"))\n",
    "breadth=int(input(\"Breadth:\"))\n",
    "print(\"perimter formula:Height1+Height2+Breadth\")\n",
    "print(\"perimter of Triangle:10\")"
   ]
  }
 ],
 "metadata": {
  "kernelspec": {
   "display_name": "Python 3 (ipykernel)",
   "language": "python",
   "name": "python3"
  },
  "language_info": {
   "codemirror_mode": {
    "name": "ipython",
    "version": 3
   },
   "file_extension": ".py",
   "mimetype": "text/x-python",
   "name": "python",
   "nbconvert_exporter": "python",
   "pygments_lexer": "ipython3",
   "version": "3.11.7"
  }
 },
 "nbformat": 4,
 "nbformat_minor": 5
}
