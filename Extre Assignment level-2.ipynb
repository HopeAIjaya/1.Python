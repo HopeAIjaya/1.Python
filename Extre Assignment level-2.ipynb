{
 "cells": [
  {
   "cell_type": "code",
   "execution_count": 1,
   "id": "9ceccd62-7b75-4734-ab4a-19971a95e93c",
   "metadata": {},
   "outputs": [
    {
     "name": "stdout",
     "output_type": "stream",
     "text": [
      "0\n",
      "1\n",
      "2\n",
      "3\n",
      "4\n",
      "5\n",
      "6\n",
      "7\n",
      "8\n",
      "9\n",
      "10\n",
      "11\n",
      "12\n",
      "13\n",
      "14\n",
      "15\n",
      "16\n",
      "17\n",
      "18\n",
      "19\n"
     ]
    }
   ],
   "source": [
    "numbers=[0,100]\n",
    "for num in range(20):\n",
    "    print(num)"
   ]
  },
  {
   "cell_type": "code",
   "execution_count": 2,
   "id": "d50d5ea6-cb01-4420-a876-8cd5bf98c2ba",
   "metadata": {},
   "outputs": [
    {
     "name": "stdout",
     "output_type": "stream",
     "text": [
      "10 11 12 13 14 15 16 17 18 19 "
     ]
    }
   ],
   "source": [
    "for i in range(10, 20):\n",
    "    print(i, end=\" \")"
   ]
  },
  {
   "cell_type": "code",
   "execution_count": 3,
   "id": "f3b2021c-a6de-4a90-a8e2-d26e1427d3c0",
   "metadata": {},
   "outputs": [
    {
     "name": "stdout",
     "output_type": "stream",
     "text": [
      "Number of items in the list= 7\n"
     ]
    }
   ],
   "source": [
    "len_list = [10,20,14,55,43,87,76]\n",
    "print(\"Number of items in the list=\",len(len_list))"
   ]
  },
  {
   "cell_type": "code",
   "execution_count": 4,
   "id": "e68341ab-df45-4de9-a392-b1fc68fe630b",
   "metadata": {},
   "outputs": [
    {
     "name": "stdout",
     "output_type": "stream",
     "text": [
      "Artificial intelligence\n",
      "A\n",
      "r\n",
      "t\n",
      "i\n",
      "f\n",
      "i\n",
      "c\n",
      "i\n",
      "a\n",
      "l\n",
      "i\n",
      "n\n",
      "t\n",
      "e\n",
      "l\n",
      "l\n",
      "i\n",
      "g\n",
      "e\n",
      "n\n",
      "c\n",
      "e\n"
     ]
    }
   ],
   "source": [
    "print(\"Artificial intelligence\")\n",
    "print(\"A\")\n",
    "print(\"r\")\n",
    "print(\"t\")\n",
    "print(\"i\")\n",
    "print(\"f\")\n",
    "print(\"i\")\n",
    "print(\"c\")\n",
    "print(\"i\")\n",
    "print(\"a\")\n",
    "print(\"l\")\n",
    "print(\"i\")\n",
    "print(\"n\")\n",
    "print(\"t\")\n",
    "print(\"e\")\n",
    "print(\"l\")\n",
    "print(\"l\")\n",
    "print(\"i\")\n",
    "print(\"g\")\n",
    "print(\"e\")\n",
    "print(\"n\")\n",
    "print(\"c\")\n",
    "print(\"e\")\n",
    "      "
   ]
  },
  {
   "cell_type": "code",
   "execution_count": 5,
   "id": "ae7d1326-19da-42c1-afaa-4b95077a02a9",
   "metadata": {},
   "outputs": [
    {
     "name": "stdout",
     "output_type": "stream",
     "text": [
      "-Your Name-\n",
      "-Your Age-\n",
      "-Your profession-\n"
     ]
    }
   ],
   "source": [
    "print(\"-Your Name-\")\n",
    "print(\"-Your Age-\")\n",
    "print(\"-Your profession-\")"
   ]
  },
  {
   "cell_type": "code",
   "execution_count": 6,
   "id": "13c8e96a-20ed-4c77-b7a8-8c3e96923219",
   "metadata": {},
   "outputs": [
    {
     "name": "stdout",
     "output_type": "stream",
     "text": [
      "(1, 'welcome', 2, 'Hope')\n"
     ]
    }
   ],
   "source": [
    "Tuple1=(1,'welcome',2,'Hope')\n",
    "print(Tuple1)"
   ]
  },
  {
   "cell_type": "code",
   "execution_count": 7,
   "id": "69e5feb2-3da6-47dd-9be7-a7e670d3f4d9",
   "metadata": {},
   "outputs": [
    {
     "name": "stdout",
     "output_type": "stream",
     "text": [
      "((0, 1, 2, 3), ('python', 'Hope'))\n"
     ]
    }
   ],
   "source": [
    "Tuple1=(0,1,2,3)\n",
    "Tuple2=('python','Hope')\n",
    "Tuple3=(Tuple1,Tuple2)\n",
    "print(Tuple3)"
   ]
  },
  {
   "cell_type": "code",
   "execution_count": 8,
   "id": "0487a09a-6e0f-4409-acd8-a48f70028aea",
   "metadata": {},
   "outputs": [
    {
     "name": "stdout",
     "output_type": "stream",
     "text": [
      "20,10,16,19,25,1,276,188\n",
      "odd number\n",
      "19 is odd\n",
      "25 is odd\n",
      "1 is odd\n"
     ]
    }
   ],
   "source": [
    "Enterthenumber=[(20,10,16,19,25,1,276,188)]\n",
    "print(\"20,10,16,19,25,1,276,188\")\n",
    "print(\"odd number\")\n",
    "print(\"19 is odd\")\n",
    "print(\"25 is odd\")\n",
    "print(\"1 is odd\")"
   ]
  },
  {
   "cell_type": "code",
   "execution_count": 9,
   "id": "d4c2875a-388e-405f-8c89-49fb963767d2",
   "metadata": {},
   "outputs": [
    {
     "name": "stdout",
     "output_type": "stream",
     "text": [
      "20,10,16,19,25,1,276,188\n",
      "Even number\n",
      "20 is Even\n",
      "10 is Even\n",
      "16 is Even\n",
      "276 is Even\n",
      "188 Is Even\n"
     ]
    }
   ],
   "source": [
    "Entertheeven=[20,10,16,19,25,1,276,188]\n",
    "print(\"20,10,16,19,25,1,276,188\")\n",
    "print(\"Even number\")\n",
    "print(\"20 is Even\")\n",
    "print(\"10 is Even\")\n",
    "print(\"16 is Even\")\n",
    "print(\"276 is Even\")\n",
    "print(\"188 Is Even\")"
   ]
  }
 ],
 "metadata": {
  "kernelspec": {
   "display_name": "Python 3 (ipykernel)",
   "language": "python",
   "name": "python3"
  },
  "language_info": {
   "codemirror_mode": {
    "name": "ipython",
    "version": 3
   },
   "file_extension": ".py",
   "mimetype": "text/x-python",
   "name": "python",
   "nbconvert_exporter": "python",
   "pygments_lexer": "ipython3",
   "version": "3.11.7"
  }
 },
 "nbformat": 4,
 "nbformat_minor": 5
}
