{
 "cells": [
  {
   "cell_type": "code",
   "execution_count": 1,
   "id": "7e3dabf6-6bf4-4aaa-a751-4d2b90ad64d1",
   "metadata": {},
   "outputs": [
    {
     "name": "stdin",
     "output_type": "stream",
     "text": [
      "Enter the number: 19\n"
     ]
    },
    {
     "name": "stdout",
     "output_type": "stream",
     "text": [
      "21 * 19 = 399\n",
      "22 * 19 = 418\n",
      "23 * 19 = 437\n",
      "24 * 19 = 456\n",
      "25 * 19 = 475\n",
      "26 * 19 = 494\n",
      "27 * 19 = 513\n",
      "28 * 19 = 532\n",
      "29 * 19 = 551\n",
      "30 * 19 = 570\n"
     ]
    }
   ],
   "source": [
    "n=int(input(\"Enter the number:\"))\n",
    "for i in range(21,31):\n",
    "    print(i,\"*\",n,\"=\",n*i)"
   ]
  }
 ],
 "metadata": {
  "kernelspec": {
   "display_name": "Python 3 (ipykernel)",
   "language": "python",
   "name": "python3"
  },
  "language_info": {
   "codemirror_mode": {
    "name": "ipython",
    "version": 3
   },
   "file_extension": ".py",
   "mimetype": "text/x-python",
   "name": "python",
   "nbconvert_exporter": "python",
   "pygments_lexer": "ipython3",
   "version": "3.11.7"
  }
 },
 "nbformat": 4,
 "nbformat_minor": 5
}
